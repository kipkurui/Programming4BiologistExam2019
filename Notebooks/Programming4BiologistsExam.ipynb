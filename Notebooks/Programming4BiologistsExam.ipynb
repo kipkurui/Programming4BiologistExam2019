{
 "cells": [
  {
   "cell_type": "markdown",
   "metadata": {},
   "source": [
    "## PROGRAM: MSc Bioinformatics\n",
    "## UNIT: SBG853 Programming for Biologists\n",
    "## End Semester Exam\n",
    "### Year: 2019 /2020\n",
    "### Semester: One\n",
    "### Lecturer: Dr. Kibet\n",
    "\n",
    "### INSTRUCTIONS: ANSWER ALL QUESTIONS\n",
    "______"
   ]
  },
  {
   "cell_type": "markdown",
   "metadata": {},
   "source": [
    "### Section 1: Set Up: 15 Marks\n",
    "\n",
    "___\n",
    "\n",
    "\n",
    "If you are reading this, you will have received and accepted the invitation to the exam from GitHub Classroom. Clone your repo to your local machine. \n",
    "\n",
    "Requirements:\n",
    "- Access to a Linux or Mac terminal\n",
    "- Installed `jupyter lab`\n",
    "\n",
    "Step1: create a conda environment `SBG383_env` with all the packages you need for this exam. \n",
    "\n",
    "You will be tested on the proper use of Git for version control, including the use of informative commit messages.\n",
    "\n",
    "At the end of the exam, run the command `git log >../Results/GitCommits.txt`\n",
    "\n",
    "Finally, run the command `conda list >../Results/SBG383_env.yml`\n"
   ]
  },
  {
   "cell_type": "markdown",
   "metadata": {},
   "source": [
    "\n",
    "### Section 2: Linux 35 marks\n",
    "_____\n",
    "\n",
    "### **Question 1: 5 marks**\n",
    "\n",
    "Create a bash script called `hello.sh` that takes a command line input of name, `bash hello.sh Jane`, prints:\n",
    "\n",
    "```\n",
    "Hello Jane.\n",
    "How are you?\n",
    "\n",
    "```"
   ]
  },
  {
   "cell_type": "code",
   "execution_count": null,
   "metadata": {},
   "outputs": [],
   "source": []
  },
  {
   "cell_type": "markdown",
   "metadata": {},
   "source": [
    "### **Question 2: 30 Marks**\n",
    "\n",
    "  **Part a: 5 marks**\n",
    "\n",
    "You are working on a Bioinformatics project, and want to achieve maximum reproducibility. Outline the steps you would take to create a reproducible project structure, and the corresponding commands you would use. "
   ]
  },
  {
   "cell_type": "markdown",
   "metadata": {},
   "source": []
  },
  {
   "cell_type": "markdown",
   "metadata": {},
   "source": [
    "**Part b: 10 marks** \n",
    "\n",
    "Download genomic sequence files from Ensembl using the command `wget ftp://ftp.ensemblgenomes.org/pub/bacteria/release-27/fasta/bacteria_5_collection/escherichia_coli_b_str_rel606/dna/*` and save the files into a folder called `escherichia_coli_b_str_rel606` in the `Data` directory. Write a script that:\n",
    "\n",
    "1. Using `gunzip` extracts all the sequence files in one command\n",
    "2. Prints to console the number of files you downloaded\n",
    "3. Prints to console the number of files in fasta format"
   ]
  },
  {
   "cell_type": "code",
   "execution_count": null,
   "metadata": {},
   "outputs": [],
   "source": []
  },
  {
   "cell_type": "markdown",
   "metadata": {},
   "source": [
    "**Part c: 8 marks**\n",
    " Among the files downloaded in part b above, there is a genome file that has been repeatmasked using Ns, which one is it? Write a script that counts the number of each nucleotide and the repeats in the sequence, and prints to console as shown below:\n",
    " \n",
    "```A:  1140788\n",
    "C:  1176949\n",
    "G:  1173579\n",
    "T:  1138496\n",
    "N:        0```\n",
    " \n",
    "NB: Some of the above numbers are random. Use `for loops`"
   ]
  },
  {
   "cell_type": "code",
   "execution_count": null,
   "metadata": {},
   "outputs": [],
   "source": []
  },
  {
   "cell_type": "markdown",
   "metadata": {},
   "source": [
    "**Part d: 7 marks**\n",
    "\n",
    "Checksum is used to check the integrity of the files, and to detect errors. Run the command `sum` on each file and compare the output with that in the CHECKSUM file. Did you get the same output? Why or why not? Extract the first column in your output and compare to the first column from the CHECKSUM file. Which command would you use to compare?"
   ]
  },
  {
   "cell_type": "code",
   "execution_count": null,
   "metadata": {},
   "outputs": [],
   "source": []
  },
  {
   "cell_type": "markdown",
   "metadata": {},
   "source": [
    "## Section 3: Python 50 Marks\n",
    "___\n",
    "\n",
    "### **Question 3:**\n"
   ]
  },
  {
   "cell_type": "markdown",
   "metadata": {},
   "source": [
    "**Part a: 10 marks**\n",
    "\n",
    "Write a python function that, using a DNA sequence read from file, answers the following questions:\n",
    "1. Shows that the DNA string contains only four letters.\n",
    "2. In the DNA string there are regions that have a repeating letter. What is the letter and length of the longest repeating region?\n",
    "3. How many ’ATG’s are in the DNA string?\n",
    "\n",
    "NB: Use the file `coding_seq.fa`. Bonus points if the script works for a multisequence fasta file."
   ]
  },
  {
   "cell_type": "code",
   "execution_count": null,
   "metadata": {},
   "outputs": [],
   "source": []
  },
  {
   "cell_type": "markdown",
   "metadata": {},
   "source": [
    "##### **Part b: 10 marks**\n",
    "Write a function that takes two arguments – a protein sequence and an amino acid residue code – and returns the percentage of the protein that the amino acid makes up. Use the following assertions to test your function.\n",
    "\n",
    "```assert my_function(\"MSRSLLLRFLLFLLLLPPLP\", \"M\") == 5\n",
    "assert my_function(\"MSRSLLLRFLLFLLLLPPLP\", \"r\") == 10\n",
    "assert my_function(\"MSRSLLLRFLLFLLLLPPLP\", \"L\") == 50\n",
    "assert my_function(\"MSRSLLLRFLLFLLLLPPLP\", \"Y\") == 0```"
   ]
  },
  {
   "cell_type": "code",
   "execution_count": null,
   "metadata": {},
   "outputs": [],
   "source": []
  },
  {
   "cell_type": "markdown",
   "metadata": {},
   "source": [
    "### Question 4: 30 marks\n",
    "\n",
    "You have been provided with output files from an RNA-seq analysis using Kallisto. \n",
    "```\n",
    "Data/kallisto/\n",
    "├── sample37\n",
    "│   ├── abundance.tsv\n",
    "│   └── run_info.json\n",
    "├── sample38\n",
    "│   ├── abundance.tsv\n",
    "│   └── run_info.json\n",
    "├── sample39\n",
    "│   ├── abundance.tsv\n",
    "│   └── run_info.json\n",
    "├── sample40\n",
    "│   ├── abundance.tsv\n",
    "│   └── run_info.json\n",
    "├── sample41\n",
    "│   ├── abundance.tsv\n",
    "│   └── run_info.json\n",
    "└── sample42\n",
    "    ├── abundance.tsv\n",
    "    └── run_info.json\n",
    "```\n",
    "We are intrested in the abundance file for each of the sampples provided, which is in the format:\n",
    "```\n",
    "target_id       length  eff_length      est_counts      tpm\n",
    "ENST00000632684.1       12      8.66667 0       0\n",
    "ENST00000434970.2       9       5.66667 0       0\n",
    "ENST00000448914.1       13      9.66667 0       0\n",
    "ENST00000415118.1       8       4.66667 0       0\n",
    "ENST00000631435.1       12      8.66667 0       0\n",
    "ENST00000390583.1       31      17.4286 0       0\n",
    "ENST00000390577.1       37      23.4286 0       0\n",
    "ENST00000451044.1       17      13.6667 0       0\n",
    "ENST00000390578.1       31      17.4286 0       0\n",
    "```\n",
    "\n",
    "\n",
    "Write a program `create_rnaseq_matrix.py` which, given the abundance files, creates count or TMP(enrichment), depending on user selection. \n",
    "\n",
    "The program should load a menu below:\n",
    "\n",
    "```\n",
    "Select an option\n",
    "  [C] Create a Count matrix\n",
    "  [E] Create an expression matrix\n",
    "  [X] Exit\n",
    ":\n",
    "```\n",
    "**OptionL:** When this option is selected, the script should ask the user to provide the path to Kallisto results output. The program should check if the folder exists, and deliver an appropriate error message.\n",
    "\n",
    "**OptionC:** When selected, the program should create a count matrix using the information in the `est_counts` column. The output matrix should be in the following format:\n",
    "\n",
    "```\n",
    "target_id \t sample37 \t sample38 \t sample39 \t sample40 \t sample41 \t sample42\n",
    "ENST00000632684.1 \t 0 \t 0 \t 0 \t 0 \t 0 \t 0\n",
    "ENST00000434970.2 \t 0 \t 0 \t 0 \t 0 \t 0 \t 0\n",
    "ENST00000448914.1 \t 0 \t 0 \t 0 \t 0 \t 0 \t 0\n",
    "ENST00000415118.1 \t 0 \t 0 \t 0 \t 0 \t 0 \t 0\n",
    "ENST00000631435.1 \t 0 \t 0 \t 0 \t 0 \t 0 \t 0\n",
    "ENST00000390583.1 \t 0 \t 0 \t 0 \t 0 \t 0 \t 0\n",
    "ENST00000390577.1 \t 0 \t 0 \t 0 \t 0 \t 0.5 \t 0\n",
    "  ...\n",
    "```\n",
    "The program should ask the user for the output file to write the matrix. \n",
    "\n",
    "\n",
    "**OptionE:** When selected, the program should create an expression matrix using the information in the `tpm` column. The output matrix should be in the following format:\n",
    "\n",
    "```\n",
    "target_id \t sample37 \t sample38 \t sample39 \t sample40 \t sample41 \t sample42\n",
    "ENST00000632684.1 \t 0 \t 0 \t 0 \t 0 \t 0 \t 0\n",
    "ENST00000434970.2 \t 0 \t 0 \t 0 \t 0 \t 0 \t 0\n",
    "ENST00000448914.1 \t 0 \t 0 \t 0 \t 0 \t 0 \t 0\n",
    "ENST00000415118.1 \t 0 \t 0 \t 0 \t 0 \t 0 \t 0\n",
    "ENST00000631435.1 \t 0 \t 0 \t 0 \t 0 \t 0 \t 0\n",
    "ENST00000390583.1 \t 0 \t 0 \t 0 \t 0 \t 0 \t 0\n",
    "ENST00000390577.1 \t 0 \t 0 \t 0 \t 0 \t 4.57235 \t 0\n",
    "...\n",
    "```\n",
    "\n",
    "After each option, the program should return the user to the main menu, until the user enters **X**."
   ]
  },
  {
   "cell_type": "code",
   "execution_count": null,
   "metadata": {},
   "outputs": [],
   "source": []
  }
 ],
 "metadata": {
  "kernelspec": {
   "display_name": "Python 3",
   "language": "python",
   "name": "python3"
  },
  "language_info": {
   "codemirror_mode": {
    "name": "ipython",
    "version": 3
   },
   "file_extension": ".py",
   "mimetype": "text/x-python",
   "name": "python",
   "nbconvert_exporter": "python",
   "pygments_lexer": "ipython3",
   "version": "3.7.1"
  }
 },
 "nbformat": 4,
 "nbformat_minor": 4
}
